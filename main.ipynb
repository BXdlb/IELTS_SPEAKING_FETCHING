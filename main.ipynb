{
 "cells": [
  {
   "cell_type": "code",
   "execution_count": 1,
   "metadata": {},
   "outputs": [],
   "source": [
    "import requests\n",
    "from bs4 import BeautifulSoup\n",
    "url=\"https://ielts.koolearn.com/20240407/863401.html\"\n",
    "response=requests.get(url)\n",
    "\n",
    "if response.status_code==200:\n",
    "    soup=BeautifulSoup(response.content,'html.parser')\n",
    "else: \n",
    "    print(\"ERROR WITH CODE:\"+ response.status_code)\n",
    "    \n"
   ]
  },
  {
   "cell_type": "code",
   "execution_count": 14,
   "metadata": {},
   "outputs": [],
   "source": [
    "import re\n",
    "\n",
    "soup_str=str(soup)\n",
    "# start_phase=\"描述一个鼓励你实现目标的人\"\n",
    "start_phase=\"3新题汇总\"\n",
    "\n",
    "end_phase=\"描述你在街市上买的东西\"\n",
    "\n",
    "start_match=re.search(re.escape(start_phase),soup_str)\n",
    "end_match=re.search(re.escape(end_phase),soup_str)\n",
    "\n",
    "\n",
    "if start_match and end_match:\n",
    "    start_index=start_match.start()\n",
    "    end_index=end_match.end()\n",
    "    links_between=soup_str[start_index:end_index].strip()\n",
    "\n",
    "    link_soup=BeautifulSoup(links_between,'html.parser')\n",
    "    "
   ]
  },
  {
   "cell_type": "code",
   "execution_count": 3,
   "metadata": {},
   "outputs": [
    {
     "name": "stdout",
     "output_type": "stream",
     "text": [
      "83\n"
     ]
    }
   ],
   "source": [
    "links = link_soup.find_all('a')\n",
    "\n",
    "link_question=[]\n",
    "link_sample=[]\n",
    "\n",
    "for link in links:\n",
    "    href = link.get('href')\n",
    "    if href:\n",
    "        if '范文' in link.find_parent().get_text():\n",
    "            link_sample.append(href)\n",
    "        else: \n",
    "            link_question.append(href)\n",
    "print(len(link_question))"
   ]
  },
  {
   "cell_type": "code",
   "execution_count": 13,
   "metadata": {},
   "outputs": [],
   "source": [
    "file_path='/Users/bx/Desktop/Questions.txt'\n",
    "with open (file_path,'w') as file:\n",
    "    file.write(\"2024年5-8月雅思口语题库汇总\\npart 2&3\\n\") \n",
    "for url_question in link_question:\n",
    "    response_question=requests.get(url_question)\n",
    "\n",
    "    if response_question.status_code==200:\n",
    "        soup_question=BeautifulSoup(response_question.content,'html.parser')\n",
    "    else: \n",
    "        print(\"FETCH QUESTION ERROR WITH CODE:\"+ response_question.status_code)\n",
    "    question_str=str(soup_question)\n",
    "    question_start=\"You should say:\"\n",
    "    question_end=\"点击查看\"\n",
    "    \n",
    "    question_start_match=re.search(re.escape(question_start),question_str)\n",
    "    question_end_match=re.search(re.escape(question_end),question_str)\n",
    "\n",
    "    if question_start_match and question_end_match:\n",
    "        question_start_index=question_start_match.start()\n",
    "        question_end_index=question_end_match.start()\n",
    "        question_between=question_str[question_start_index:question_end_index].strip()\n",
    "\n",
    "        question_extracted_soup=BeautifulSoup(question_between,'html.parser')\n",
    "        \n",
    "        with open (file_path,'a') as file:\n",
    "            file.write(\"\\n\"+question_extracted_soup.get_text(separator=\"\\n\", strip=True)+\"\\n\") "
   ]
  }
 ],
 "metadata": {
  "kernelspec": {
   "display_name": "Python 3",
   "language": "python",
   "name": "python3"
  },
  "language_info": {
   "codemirror_mode": {
    "name": "ipython",
    "version": 3
   },
   "file_extension": ".py",
   "mimetype": "text/x-python",
   "name": "python",
   "nbconvert_exporter": "python",
   "pygments_lexer": "ipython3",
   "version": "3.11.4"
  }
 },
 "nbformat": 4,
 "nbformat_minor": 2
}
